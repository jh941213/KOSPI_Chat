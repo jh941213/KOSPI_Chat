{
 "cells": [
  {
   "cell_type": "code",
   "execution_count": 2,
   "metadata": {},
   "outputs": [
    {
     "name": "stdout",
     "output_type": "stream",
     "text": [
      "LangChain은 Python 라이브러리 중 하나입니다. \n",
      "\n",
      "### LangChain의 목적\n",
      "\n",
      " LangChain은 Python API를 기반으로 만들어진 개발 플랫폼이며, 인스턴스와 관련된 메타데이터를 관리하고, 인스턴스를 쉽게 만들고 사용할 수 있는 API를 제공합니다.\n",
      "\n",
      "### LangChain의 특징\n",
      "\n",
      "LangChain는 Python API를 통해 다양한 기능을 제공합니다. 다음은 LangChain의 주요 特징입니다:\n",
      "\n",
      "*   **인스턴스 관리**: LangChain을 통해 인스턴스를 만들고 관리할 수 있습니다.\n",
      "*   **메타데이터 관리**: LangChain은 인스턴스의 메타데이터를 관리하는功能을 제공합니다.\n",
      "*   **일체화**: LangChain은 인스턴스를 일체화할 수 있기 때문에, 같은 인스턴스를 여러 번 사용할 수 있습니다.\n",
      "*   **인스턴스 교환**: LangChain은 인스턴스를 교환하는 기능을 제공합니다.\n",
      "\n",
      "### LangChain의 사용 사례\n",
      "\n",
      "LangChain은 다양한 개발 Fields에서 사용될 수 있습니다. 다음은 LangChain의 사용 사례입니다:\n",
      "\n",
      "*   **API 관리**: LangChain을 통해 API를 管理하고, API에 대한 메타데이터를 관리할 수 있습니다.\n",
      "*   **소프트웨어 관리**: LangChain을 통해 소프트웨어를 관리하고, 소프트웨어에 대한 메ta데이터를管理할 수 있습니다. \n",
      "*   **데이터 관리**: LangChain을 통해 데이터를 관리하고, 데이터에 대한 메타데이터를 관리할 수 있습니다.\n",
      "\n",
      "### LangChain의 장점\n",
      "\n",
      "LangChain은 다양한 개발 Fields에서 사용될 수 있는 유용한 도구입니다. 다음은 LangChain의 장점입니다:\n",
      "\n",
      "*   **simple API**: LangChain은 쉽게 사용할 수 있는 API를 제공합니다.\n",
      "*   ** flexible**: LangChain은 flexible한 기능을 제공합니다.\n",
      "*   **easy to learn**: LangChain은 쉽게 aprender할 수 있습니다.\n",
      "\n",
      "### LangChain의 단점\n",
      "\n",
      "LangChain은 다양한 개발 Fields에서 사용될 수 있는 유용한 도구입니다. 다음은 LangChain의 단점입니다:\n",
      "\n",
      "*   **complexity**: LangChain은 слож한 기능을 제공합니다.\n",
      "*   **steep learning curve**: LangChain은 높게_learning curve를 가지고 있습니다.\n",
      "\n",
      "### 결론\n",
      "\n",
      "LangChain은 Python 라이브러리 중 하나이며, 다양한 개발 Fields에서 사용될 수 있는 유용한 도구입니다. LangChain의 장점은 쉽게 사용할 수 있는 API와 flexible한 기능이지만, 단점은 복잡한 기능을 제공하고, 높게 learning curve가 있습니다.\n"
     ]
    }
   ],
   "source": [
    "from langchain_core.prompts import ChatPromptTemplate\n",
    "from langchain_ollama.llms import OllamaLLM\n",
    "\n",
    "# Ollama 모델 설정\n",
    "model = OllamaLLM(model=\"llama3.2:latest\",temperature=0)\n",
    "\n",
    "# 프롬프트 템플릿 정의\n",
    "template = \"\"\"질문: {question}\n",
    "\n",
    "답변: 단계별로 생각해 봅시다.\"\"\"\n",
    "\n",
    "prompt = ChatPromptTemplate.from_template(template)\n",
    "\n",
    "# 체인 생성\n",
    "chain = prompt | model\n",
    "\n",
    "# 모델 사용 예시\n",
    "response = chain.invoke({\"question\": \"LangChain이란 무엇인가요?\"})\n",
    "print(response)"
   ]
  },
  {
   "cell_type": "code",
   "execution_count": 3,
   "metadata": {},
   "outputs": [
    {
     "data": {
      "text/plain": [
       "'LangChain은 Python 라이브러리 중 하나입니다. \\n\\n### LangChain의 목적\\n\\n LangChain은 Python API를 기반으로 만들어진 개발 플랫폼이며, 인스턴스와 관련된 메타데이터를 관리하고, 인스턴스를 쉽게 만들고 사용할 수 있는 API를 제공합니다.\\n\\n### LangChain의 특징\\n\\nLangChain는 Python API를 통해 다양한 기능을 제공합니다. 다음은 LangChain의 주요 特징입니다:\\n\\n*   **인스턴스 관리**: LangChain을 통해 인스턴스를 만들고 관리할 수 있습니다.\\n*   **메타데이터 관리**: LangChain은 인스턴스의 메타데이터를 관리하는功能을 제공합니다.\\n*   **일체화**: LangChain은 인스턴스를 일체화할 수 있기 때문에, 같은 인스턴스를 여러 번 사용할 수 있습니다.\\n*   **인스턴스 교환**: LangChain은 인스턴스를 교환하는 기능을 제공합니다.\\n\\n### LangChain의 사용 사례\\n\\nLangChain은 다양한 개발 Fields에서 사용될 수 있습니다. 다음은 LangChain의 사용 사례입니다:\\n\\n*   **API 관리**: LangChain을 통해 API를 管理하고, API에 대한 메타데이터를 관리할 수 있습니다.\\n*   **소프트웨어 관리**: LangChain을 통해 소프트웨어를 관리하고, 소프트웨어에 대한 메ta데이터를管理할 수 있습니다. \\n*   **데이터 관리**: LangChain을 통해 데이터를 관리하고, 데이터에 대한 메타데이터를 관리할 수 있습니다.\\n\\n### LangChain의 장점\\n\\nLangChain은 다양한 개발 Fields에서 사용될 수 있는 유용한 도구입니다. 다음은 LangChain의 장점입니다:\\n\\n*   **simple API**: LangChain은 쉽게 사용할 수 있는 API를 제공합니다.\\n*   ** flexible**: LangChain은 flexible한 기능을 제공합니다.\\n*   **easy to learn**: LangChain은 쉽게 aprender할 수 있습니다.\\n\\n### LangChain의 단점\\n\\nLangChain은 다양한 개발 Fields에서 사용될 수 있는 유용한 도구입니다. 다음은 LangChain의 단점입니다:\\n\\n*   **complexity**: LangChain은 слож한 기능을 제공합니다.\\n*   **steep learning curve**: LangChain은 높게_learning curve를 가지고 있습니다.\\n\\n### 결론\\n\\nLangChain은 Python 라이브러리 중 하나이며, 다양한 개발 Fields에서 사용될 수 있는 유용한 도구입니다. LangChain의 장점은 쉽게 사용할 수 있는 API와 flexible한 기능이지만, 단점은 복잡한 기능을 제공하고, 높게 learning curve가 있습니다.'"
      ]
     },
     "execution_count": 3,
     "metadata": {},
     "output_type": "execute_result"
    }
   ],
   "source": [
    "response"
   ]
  },
  {
   "cell_type": "code",
   "execution_count": null,
   "metadata": {},
   "outputs": [],
   "source": []
  }
 ],
 "metadata": {
  "kernelspec": {
   "display_name": "base",
   "language": "python",
   "name": "python3"
  },
  "language_info": {
   "codemirror_mode": {
    "name": "ipython",
    "version": 3
   },
   "file_extension": ".py",
   "mimetype": "text/x-python",
   "name": "python",
   "nbconvert_exporter": "python",
   "pygments_lexer": "ipython3",
   "version": "3.12.4"
  }
 },
 "nbformat": 4,
 "nbformat_minor": 2
}
